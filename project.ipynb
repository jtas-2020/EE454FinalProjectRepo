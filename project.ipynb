{
 "cells": [
  {
   "cell_type": "code",
   "execution_count": 12,
   "metadata": {},
   "outputs": [],
   "source": [
    "# Imports\n",
    "import scipy as sp\n",
    "from scipy import linalg\n",
    "import numpy as np\n",
    "from numpy import random\n",
    "import xlsxwriter\n",
    "\n",
    "import openpyxl\n",
    "from openpyxl import load_workbook\n",
    "\n",
    "import pandas as pd"
   ]
  },
  {
   "cell_type": "code",
   "execution_count": 13,
   "metadata": {},
   "outputs": [],
   "source": [
    "# OPENPYXL TESTING\n",
    "\n",
    "# workbook = load_workbook(filename=r'C:\\Users\\Armin\\Desktop\\EE454\\Project\\Three Bus System Example\\system_SampleInput.xlsx')\n",
    "# busData = workbook['BusData']\n",
    "# lineData = workbook['LineData']"
   ]
  },
  {
   "cell_type": "code",
   "execution_count": 25,
   "metadata": {},
   "outputs": [
    {
     "name": "stdout",
     "output_type": "stream",
     "text": [
      "   Bus #  P MW  Q MVAr Type  P Gen  V Set\n",
      "0      1     0       0    S      0   1.00\n",
      "1      2    45      15    G     25   1.02\n",
      "2      3    53       7    D      0   1.00\n",
      "   From  To  Rtotal, p.u.  Xtotal, p.u.  Btotal, p.u.  Fmax, MVA\n",
      "0     1   2       0.08205       0.13027        0.0528      99999\n",
      "1     1   3       0.12291       0.25202        0.0128      99999\n",
      "2     2   3       0.22092       0.19988        0.0000      99999\n"
     ]
    }
   ],
   "source": [
    "# Creates bus data matrix\n",
    "S_base = 100.\n",
    "max_mismatch = 0.1\n",
    "\n",
    "dfBus = pd.read_excel (r'C:\\Users\\Armin\\Desktop\\EE454\\Project\\Three Bus System Example\\system_SampleInput.xlsx', sheet_name='BusData')\n",
    "dfLine = pd.read_excel (r'C:\\Users\\Armin\\Desktop\\EE454\\Project\\Three Bus System Example\\system_SampleInput.xlsx', sheet_name='LineData')\n",
    "\n",
    "busData = dfBus.values\n",
    "lineData = dfLine.values\n",
    "\n",
    "busRows = len(busData)\n",
    "busCols = len(busData[0])\n",
    "lineRows = len(lineData)\n",
    "lineCols = len(lineData[0])\n",
    "\n",
    "print(dfBus)\n",
    "print(dfLine)"
   ]
  },
  {
   "cell_type": "code",
   "execution_count": 27,
   "metadata": {},
   "outputs": [
    {
     "name": "stdout",
     "output_type": "stream",
     "text": [
      "[[-8.66875742  5.49605043  3.20550699]\n",
      " [ 5.49605043 -7.72162505  2.25197463]\n",
      " [ 3.20550699  2.25197463 -5.45108162]]\n"
     ]
    }
   ],
   "source": [
    "# Creates admittance matrix\n",
    "Y = 1j * np.zeros((busRows, busRows))\n",
    "G = np.zeros((busRows, busRows))\n",
    "B = np.zeros((busRows, busRows))\n",
    "\n",
    "B_cap = {}\n",
    "\n",
    "\n",
    "for index, row in dfLine.iterrows():\n",
    "#     print(row)\n",
    "#     print(\"{} {}\".format(row['Rtotal, p.u.'], row['Xtotal, p.u.']))\n",
    "    Y[int(row['From']) - 1][int(row['To']) - 1] = -(row['Rtotal, p.u.'] + 1j * row['Xtotal, p.u.'])**-1\n",
    "    Y[int(row['To']) - 1][int(row['From']) - 1] = -(row['Rtotal, p.u.'] + 1j * row['Xtotal, p.u.'])**-1\n",
    "    B_cap[int(row['From'])] = B_cap.get(row['From'], []) + [row['Btotal, p.u.']]\n",
    "    B_cap[int(row['To'])] = B_cap.get(row['To'], []) + [row['Btotal, p.u.']]\n",
    "   \n",
    "for i in range(busRows):\n",
    "    Y[i][i] = -sum([Y[i][x] for x in range(busRows)]) + 0.5j*sum(B_cap[i + 1])\n",
    "    \n",
    "G = Y.real\n",
    "B = Y.imag\n",
    "\n",
    "print(B)\n"
   ]
  },
  {
   "cell_type": "code",
   "execution_count": 75,
   "metadata": {},
   "outputs": [
    {
     "name": "stdout",
     "output_type": "stream",
     "text": [
      "[[ 1.  2.  3.]\n",
      " [ 0. 45. 53.]\n",
      " [ 0. 15.  7.]]\n"
     ]
    }
   ],
   "source": [
    "# Creates load matrix\n",
    "Load_map = {}\n",
    "Load_matrix = np.zeros((3,busRows))\n",
    "\n",
    "for i in range(busRows):\n",
    "    load[0][i] = busData[i][0]\n",
    "    load[1][i] = busData[i][1]\n",
    "    load[2][i] = busData[i][2]\n",
    "    \n",
    "print(load)\n"
   ]
  },
  {
   "cell_type": "code",
   "execution_count": 77,
   "metadata": {},
   "outputs": [
    {
     "name": "stdout",
     "output_type": "stream",
     "text": [
      "[[ 1.  2.  3.]\n",
      " [ 0. 25.  0.]]\n"
     ]
    }
   ],
   "source": [
    "# Active power matrix\n",
    "Gen_map = {}\n",
    "Gen_matrix = np.zeros((2,busRows))\n",
    "\n",
    "for index, row in dfBus.iterrows():\n",
    "    Gen_map[(row['Bus #'])] = B_cap.get(row['Type'], []) + [row['P Gen']]\n",
    "\n",
    "for i in range(busRows):\n",
    "    Gen_matrix[0][i] = busData[i][0]\n",
    "    if busData[i][3] == 'G':\n",
    "        Gen_matrix[1][i] = busData[i][4]\n",
    "\n",
    "print(Gen_matrix)"
   ]
  },
  {
   "cell_type": "code",
   "execution_count": 79,
   "metadata": {},
   "outputs": [
    {
     "name": "stdout",
     "output_type": "stream",
     "text": [
      "[[1.   2.   3.  ]\n",
      " [1.   1.02 1.  ]]\n"
     ]
    }
   ],
   "source": [
    "# Reference voltages at bus\n",
    "v_bus = np.zeros((2,busRows))\n",
    "\n",
    "for i in range(busRows):\n",
    "    v_bus[0][i] = busData[i][0]\n",
    "    v_bus[1][i] = busData[i][5]\n",
    "\n",
    "print(v_bus)"
   ]
  },
  {
   "cell_type": "code",
   "execution_count": null,
   "metadata": {},
   "outputs": [],
   "source": [
    "# Power flow solving\n",
    "for i in range(busRows)\n",
    "    "
   ]
  },
  {
   "cell_type": "code",
   "execution_count": 80,
   "metadata": {},
   "outputs": [],
   "source": [
    "# Power flow function\n",
    "def calcs(P_gen, P_load, Q_gen, Q_load)\n",
    "    theta_flat = 0\n",
    "    v_flat = 1\n",
    "    P_inj = P_gen - P_load\n",
    "    Q_inj = Q_gen - Q_load"
   ]
  },
  {
   "cell_type": "code",
   "execution_count": null,
   "metadata": {},
   "outputs": [],
   "source": []
  }
 ],
 "metadata": {
  "kernelspec": {
   "display_name": "Python 3",
   "language": "python",
   "name": "python3"
  },
  "language_info": {
   "codemirror_mode": {
    "name": "ipython",
    "version": 3
   },
   "file_extension": ".py",
   "mimetype": "text/x-python",
   "name": "python",
   "nbconvert_exporter": "python",
   "pygments_lexer": "ipython3",
   "version": "3.7.4"
  }
 },
 "nbformat": 4,
 "nbformat_minor": 2
}
